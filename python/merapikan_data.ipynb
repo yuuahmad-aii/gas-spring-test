{
 "cells": [
  {
   "cell_type": "code",
   "execution_count": 1,
   "metadata": {},
   "outputs": [],
   "source": [
    "import pandas as pd\n",
    "\n",
    "# Baca file CSV\n",
    "input_file = \"data_saya.csv\"\n",
    "output_file = \"hasil.csv\"\n",
    "# Membaca data dari CSV\n",
    "data = pd.read_csv(input_file)"
   ]
  },
  {
   "cell_type": "code",
   "execution_count": 9,
   "metadata": {},
   "outputs": [
    {
     "name": "stdout",
     "output_type": "stream",
     "text": [
      "                       time  Graph 0    kg  Graph 1  Graph 2  Unnamed: 5\n",
      "0  2025-01-16T04:01:28.314Z      0.0  9.62    255.0      NaN         NaN\n",
      "1  2025-01-16T04:01:28.394Z      0.0  9.83    255.0      NaN         NaN\n",
      "2  2025-01-16T04:01:28.495Z      0.0  5.29    255.0      NaN         NaN\n",
      "3  2025-01-16T04:01:28.590Z      0.0  4.61    255.0      NaN         NaN\n",
      "4  2025-01-16T04:01:28.689Z      0.0  5.29    255.0      NaN         NaN\n"
     ]
    }
   ],
   "source": [
    "print(data.head(5))"
   ]
  },
  {
   "cell_type": "code",
   "execution_count": 7,
   "metadata": {},
   "outputs": [
    {
     "name": "stdout",
     "output_type": "stream",
     "text": [
      "0       9.62\n",
      "1       9.83\n",
      "2       5.29\n",
      "3       4.61\n",
      "4       5.29\n",
      "       ...  \n",
      "391    19.86\n",
      "392    18.50\n",
      "393    15.93\n",
      "394    17.96\n",
      "395    20.40\n",
      "Name: kg, Length: 396, dtype: float64\n"
     ]
    }
   ],
   "source": [
    "# print(data)\n",
    "print(data[\"kg\"])"
   ]
  },
  {
   "cell_type": "code",
   "execution_count": 10,
   "metadata": {},
   "outputs": [
    {
     "name": "stdout",
     "output_type": "stream",
     "text": [
      "                         time  Graph 0     kg  Graph 1  Graph 2  Unnamed: 5\n",
      "0    2025-01-16T04:01:28.314Z      0.0   9.62    255.0      NaN         NaN\n",
      "1    2025-01-16T04:01:28.394Z      0.0   9.83    255.0      NaN         NaN\n",
      "2    2025-01-16T04:01:28.495Z      0.0   5.29    255.0      NaN         NaN\n",
      "3    2025-01-16T04:01:28.590Z      0.0   4.61    255.0      NaN         NaN\n",
      "4    2025-01-16T04:01:28.689Z      0.0   5.29    255.0      NaN         NaN\n",
      "..                        ...      ...    ...      ...      ...         ...\n",
      "380  2025-01-16T04:01:05.615Z     17.0  17.01    255.0      NaN         NaN\n",
      "381  2025-01-16T04:01:05.716Z     17.0  15.25    255.0      NaN         NaN\n",
      "382  2025-01-16T04:01:05.811Z     17.0  11.79    255.0      NaN         NaN\n",
      "383  2025-01-16T04:01:05.917Z     17.0  14.10    255.0      NaN         NaN\n",
      "395  2025-01-16T04:01:07.085Z     18.0  20.40    255.0      NaN         NaN\n",
      "\n",
      "[198 rows x 6 columns]\n"
     ]
    }
   ],
   "source": [
    "print(data.loc[data[\"Graph 1\"]==255])"
   ]
  }
 ],
 "metadata": {
  "kernelspec": {
   "display_name": "Python 3",
   "language": "python",
   "name": "python3"
  },
  "language_info": {
   "codemirror_mode": {
    "name": "ipython",
    "version": 3
   },
   "file_extension": ".py",
   "mimetype": "text/x-python",
   "name": "python",
   "nbconvert_exporter": "python",
   "pygments_lexer": "ipython3",
   "version": "3.10.11"
  }
 },
 "nbformat": 4,
 "nbformat_minor": 2
}
