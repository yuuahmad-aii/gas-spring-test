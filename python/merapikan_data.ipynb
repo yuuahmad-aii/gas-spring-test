{
 "cells": [
  {
   "cell_type": "code",
   "execution_count": 2,
   "metadata": {},
   "outputs": [],
   "source": [
    "import pandas as pd\n",
    "\n",
    "# Baca file CSV\n",
    "input_file = \"data_logger_2.txt\"\n",
    "output_file = \"hasil.csv\"\n",
    "# Membaca data dari CSV\n",
    "data = pd.read_csv(input_file)"
   ]
  },
  {
   "cell_type": "code",
   "execution_count": 3,
   "metadata": {},
   "outputs": [
    {
     "name": "stdout",
     "output_type": "stream",
     "text": [
      "                 waktu cycle  beban  relay\n",
      "0  2025-01-16 17:48:04     0   0.02  255.0\n",
      "1  2025-01-16 17:48:04     0   0.01  255.0\n",
      "2  2025-01-16 17:48:04     0  -0.11  255.0\n",
      "3  2025-01-16 17:48:04     0  -5.52  255.0\n",
      "4  2025-01-16 17:48:04     0 -31.91  255.0\n"
     ]
    }
   ],
   "source": [
    "print(data.head(5))"
   ]
  },
  {
   "cell_type": "code",
   "execution_count": 4,
   "metadata": {},
   "outputs": [
    {
     "name": "stdout",
     "output_type": "stream",
     "text": [
      "0          0.02\n",
      "1          0.01\n",
      "2         -0.11\n",
      "3         -5.52\n",
      "4        -31.91\n",
      "          ...  \n",
      "29646    -59.92\n",
      "29647    -81.89\n",
      "29648   -102.26\n",
      "29649   -113.42\n",
      "29650       NaN\n",
      "Name: beban, Length: 29651, dtype: float64\n"
     ]
    }
   ],
   "source": [
    "# print(data)\n",
    "print(data[\"beban\"])"
   ]
  },
  {
   "cell_type": "code",
   "execution_count": 6,
   "metadata": {},
   "outputs": [
    {
     "name": "stdout",
     "output_type": "stream",
     "text": [
      "                     waktu  cycle   beban  relay\n",
      "0      2025-01-16 17:48:04      0    0.02  255.0\n",
      "1      2025-01-16 17:48:04      0    0.01  255.0\n",
      "2      2025-01-16 17:48:04      0   -0.11  255.0\n",
      "3      2025-01-16 17:48:04      0   -5.52  255.0\n",
      "4      2025-01-16 17:48:04      0  -31.91  255.0\n",
      "...                    ...    ...     ...    ...\n",
      "29645  2025-01-16 18:30:40   1235  -32.02  255.0\n",
      "29646  2025-01-16 18:30:40   1235  -59.92  255.0\n",
      "29647  2025-01-16 18:30:40   1235  -81.89  255.0\n",
      "29648  2025-01-16 18:30:40   1235 -102.26  255.0\n",
      "29649  2025-01-16 18:30:40   1235 -113.42  255.0\n",
      "\n",
      "[14829 rows x 4 columns]\n"
     ]
    }
   ],
   "source": [
    "print(data.loc[data[\"relay\"]==255])"
   ]
  },
  {
   "cell_type": "code",
   "execution_count": 9,
   "metadata": {},
   "outputs": [
    {
     "name": "stdout",
     "output_type": "stream",
     "text": [
      "                     waktu  cycle   beban  relay\n",
      "0      2025-01-16 17:48:04      0    0.02  255.0\n",
      "1      2025-01-16 17:48:04      0    0.01  255.0\n",
      "2      2025-01-16 17:48:04      0   -0.11  255.0\n",
      "3      2025-01-16 17:48:04      0   -5.52  255.0\n",
      "4      2025-01-16 17:48:04      0  -31.91  255.0\n",
      "...                    ...    ...     ...    ...\n",
      "29645  2025-01-16 18:30:40   1235  -32.02  255.0\n",
      "29646  2025-01-16 18:30:40   1235  -59.92  255.0\n",
      "29647  2025-01-16 18:30:40   1235  -81.89  255.0\n",
      "29648  2025-01-16 18:30:40   1235 -102.26  255.0\n",
      "29649  2025-01-16 18:30:40   1235 -113.42  255.0\n",
      "\n",
      "[14829 rows x 4 columns]\n"
     ]
    }
   ],
   "source": [
    "filtered_data = data[data[\"relay\"] == 255.0]\n",
    "print(filtered_data)"
   ]
  },
  {
   "cell_type": "code",
   "execution_count": null,
   "metadata": {},
   "outputs": [],
   "source": [
    "# Mencari nilai tertinggi dari \"cycle\" dan nilai \"beban\" terkait\n",
    "if not filtered_data.empty:\n",
    "    max_graph1 = filtered_data[\"beban\"].max()\n",
    "    corresponding_kg = filtered_data.loc[\n",
    "        filtered_data[\"cycle\"] == max_graph1, \"beban\"\n",
    "    ].values[0]\n",
    "else:\n",
    "    max_graph1 = None\n",
    "    corresponding_kg = None"
   ]
  }
 ],
 "metadata": {
  "kernelspec": {
   "display_name": "Python 3",
   "language": "python",
   "name": "python3"
  },
  "language_info": {
   "codemirror_mode": {
    "name": "ipython",
    "version": 3
   },
   "file_extension": ".py",
   "mimetype": "text/x-python",
   "name": "python",
   "nbconvert_exporter": "python",
   "pygments_lexer": "ipython3",
   "version": "3.10.11"
  }
 },
 "nbformat": 4,
 "nbformat_minor": 2
}
